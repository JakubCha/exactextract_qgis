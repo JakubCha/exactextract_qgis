{
 "cells": [
  {
   "cell_type": "code",
   "execution_count": 45,
   "metadata": {},
   "outputs": [],
   "source": [
    "from exactextract import exact_extract\n",
    "import geopandas as gpd\n",
    "import pandas as pd\n",
    "from tqdm import tqdm\n",
    "import numpy as np\n",
    "from shapely.geometry import Polygon\n",
    "\n",
    "import os\n",
    "import glob\n",
    "import pathlib\n",
    "from multiprocess import Pool\n",
    "from typing import Union, List, Any\n",
    "import itertools\n",
    "import math"
   ]
  },
  {
   "cell_type": "code",
   "execution_count": 55,
   "metadata": {},
   "outputs": [],
   "source": [
    "\n",
    "def _chunks(data: gpd.GeoDataFrame, n: int, raster: str, stats: List[str], include_cols: List[str]) -> List[Any]:\n",
    "    \"\"\"Yield successive n-sized chunks from a slice-able iterable.\"\"\"\n",
    "    for i in range(0, len(data), n):\n",
    "        yield [data[i:i + n], raster, stats, include_cols]    \n",
    "\n",
    "def _zonal_stats_partial(feats: gpd.GeoDataFrame, raster: str, stats: List[str], include_cols: List[str]) -> List[Any]:\n",
    "    from exactextract import exact_extract\n",
    "    \"\"\"Wrapper for zonal stats, takes a geodataframe\"\"\"\n",
    "    return exact_extract(vec=feats, rast=raster, ops=stats, include_cols=include_cols, output=\"pandas\")\n",
    "\n",
    "def calculate_stats_parallel(polygon_layer_gdf: gpd.GeoDataFrame, raster: str, stats: List[str], pool: Pool, include_cols=['id'], n_jobs=16, index_column: str='id', prefix: str=''):\n",
    "    \"\"\"\n",
    "    Calculate zonal statistics for a raster and a GeoDataFrame of polygons\" in parallel.\n",
    "\n",
    "    Args:\n",
    "        polygon_layer_gdf (gpd.GeoDataFrame): A GeoDataFrame of polygons.\n",
    "        raster (str): The path to the raster file.\n",
    "        stats (List[str]): A list of statistics to calculate.\n",
    "        pool (Pool): Pool of a jobs in multiprocess library.\n",
    "        include_cols (List[str], optional): A list of columns to include in the output. Defaults to ['id'].\n",
    "        n_jobs (int, optional): The number of cores to use for parallel processing. Defaults to 16.\n",
    "        index_column (str, optional): The name of the index column. Defaults to 'id'.\n",
    "        prefix (str, optional): A prefix string to add to the column names. Defaults to ''.\n",
    "\n",
    "    Returns:\n",
    "        pd.DataFrame: A DataFrame of zonal statistics.\n",
    "    \"\"\"\n",
    "    # Define the number of cores to use for parallel processing\n",
    "    \n",
    "    # Use starmap and chunks for parallel processing\n",
    "    stats_list = pool.starmap(_zonal_stats_partial,\n",
    "                            _chunks(polygon_layer_gdf, round(len(polygon_layer_gdf) / pool._processes),\n",
    "                                    raster,  stats, include_cols))\n",
    "    stats_list = [df.set_index(index_column) for df in stats_list]\n",
    "    calculated_stats = pd.concat(stats_list)\n",
    "    \n",
    "    if index_column is not None and index_column in include_cols:\n",
    "        # change index dtype to dtype of index column in input layer\n",
    "        index_dtype = str(polygon_layer_gdf[index_column].dtype)\n",
    "        calculated_stats = calculated_stats.reset_index().astype({index_column:index_dtype})\n",
    "        \n",
    "    if len(prefix) > 0:\n",
    "        # rename columns to include prefix string\n",
    "        rename_dict = {stat: f\"{prefix}{stat}\" for stat in stats}\n",
    "        calculated_stats = calculated_stats.rename(columns=rename_dict)\n",
    "    \n",
    "    return calculated_stats\n",
    "    \n",
    "\n"
   ]
  },
  {
   "cell_type": "code",
   "execution_count": 78,
   "metadata": {},
   "outputs": [],
   "source": [
    "n_jobs = 16\n",
    "pool = Pool(n_jobs)\n",
    "id_column = 'id'\n",
    "stats = ['max', 'mean', 'variance', 'stdev']\n",
    "\n",
    "# Paths to data\n",
    "polygon_layer_path = r\"E:\\Praca\\MGGP_Aero\\Test_DATA\\zbiorowiska_part.gpkg\"\n",
    "lidar_rasters_leafon_path = r'e:\\Praca\\MGGP_Aero\\Test_DATA'"
   ]
  },
  {
   "cell_type": "code",
   "execution_count": 79,
   "metadata": {},
   "outputs": [],
   "source": [
    "# list rasters of lidar metrics\n",
    "lidar_rasters_leafon_pathlib = pathlib.Path(lidar_rasters_leafon_path)\n",
    "lidar_rasters_list = list(lidar_rasters_leafon_pathlib.rglob(\"*.tif\"))"
   ]
  },
  {
   "cell_type": "code",
   "execution_count": 80,
   "metadata": {},
   "outputs": [],
   "source": [
    "polygon_layer_gdf = gpd.read_file(polygon_layer_path, engine=\"pyogrio\")\n",
    "polygon_layer_gdf = polygon_layer_gdf.reset_index().rename(columns={\"index\":\"id\"}).astype({'id':'int32'})"
   ]
  },
  {
   "cell_type": "markdown",
   "metadata": {},
   "source": [
    "### Calculate metrics from a lidar rasters"
   ]
  },
  {
   "cell_type": "code",
   "execution_count": 89,
   "metadata": {},
   "outputs": [
    {
     "name": "stderr",
     "output_type": "stream",
     "text": [
      "100%|██████████| 1/1 [00:18<00:00, 18.95s/it]\n",
      "100%|██████████| 1/1 [00:18<00:00, 18.39s/it]\n",
      "100%|██████████| 1/1 [00:19<00:00, 19.33s/it]\n",
      "100%|██████████| 1/1 [00:18<00:00, 18.77s/it]\n",
      "100%|██████████| 1/1 [00:19<00:00, 19.61s/it]\n",
      "100%|██████████| 1/1 [00:19<00:00, 19.21s/it]\n",
      "100%|██████████| 1/1 [00:20<00:00, 20.09s/it]\n",
      "100%|██████████| 1/1 [00:19<00:00, 19.35s/it]"
     ]
    },
    {
     "name": "stdout",
     "output_type": "stream",
     "text": [
      "19.3 s ± 509 ms per loop (mean ± std. dev. of 7 runs, 1 loop each)\n"
     ]
    },
    {
     "name": "stderr",
     "output_type": "stream",
     "text": [
      "\n"
     ]
    }
   ],
   "source": [
    "polygon_layer_stats_gdf = polygon_layer_gdf.copy(deep=True)\n",
    "for lidar_raster in tqdm(lidar_rasters_list):\n",
    "    raster_name = lidar_raster.stem\n",
    "    raster_rio = lidar_raster\n",
    "    \n",
    "    calculated_stats = calculate_stats_parallel(polygon_layer_gdf=polygon_layer_gdf, raster=lidar_raster,\n",
    "                                            stats=stats, pool=pool, include_cols=[id_column], index_column=id_column, \n",
    "                                            n_jobs=n_jobs, prefix=f'{raster_name}_')\n",
    "    polygon_layer_stats_gdf = pd.merge(polygon_layer_stats_gdf, calculated_stats, on='id', how='left')\n",
    "    "
   ]
  },
  {
   "cell_type": "code",
   "execution_count": 20,
   "metadata": {},
   "outputs": [
    {
     "data": {
      "text/html": [
       "<div>\n",
       "<style scoped>\n",
       "    .dataframe tbody tr th:only-of-type {\n",
       "        vertical-align: middle;\n",
       "    }\n",
       "\n",
       "    .dataframe tbody tr th {\n",
       "        vertical-align: top;\n",
       "    }\n",
       "\n",
       "    .dataframe thead th {\n",
       "        text-align: right;\n",
       "    }\n",
       "</style>\n",
       "<table border=\"1\" class=\"dataframe\">\n",
       "  <thead>\n",
       "    <tr style=\"text-align: right;\">\n",
       "      <th></th>\n",
       "      <th>id</th>\n",
       "      <th>NazwSkro</th>\n",
       "      <th>geometry</th>\n",
       "      <th>p341_gat_ekspansywne_raw_max</th>\n",
       "      <th>p341_gat_ekspansywne_raw_mean</th>\n",
       "      <th>p341_gat_ekspansywne_raw_variance</th>\n",
       "      <th>p341_gat_ekspansywne_raw_stdev</th>\n",
       "    </tr>\n",
       "  </thead>\n",
       "  <tbody>\n",
       "    <tr>\n",
       "      <th>0</th>\n",
       "      <td>0</td>\n",
       "      <td>Galio-Urticenea</td>\n",
       "      <td>MULTIPOLYGON (((5486151.000 5833604.000, 54861...</td>\n",
       "      <td>7.0</td>\n",
       "      <td>6.076389</td>\n",
       "      <td>5.612220</td>\n",
       "      <td>2.369013</td>\n",
       "    </tr>\n",
       "    <tr>\n",
       "      <th>1</th>\n",
       "      <td>1</td>\n",
       "      <td>Galio-Urticenea</td>\n",
       "      <td>MULTIPOLYGON (((5486281.000 5833627.000, 54862...</td>\n",
       "      <td>7.0</td>\n",
       "      <td>4.816000</td>\n",
       "      <td>10.518144</td>\n",
       "      <td>3.243169</td>\n",
       "    </tr>\n",
       "    <tr>\n",
       "      <th>2</th>\n",
       "      <td>2</td>\n",
       "      <td>Galio-Urticenea</td>\n",
       "      <td>MULTIPOLYGON (((5486240.000 5833627.000, 54862...</td>\n",
       "      <td>7.0</td>\n",
       "      <td>2.962121</td>\n",
       "      <td>8.081899</td>\n",
       "      <td>2.842868</td>\n",
       "    </tr>\n",
       "    <tr>\n",
       "      <th>3</th>\n",
       "      <td>3</td>\n",
       "      <td>Galio-Urticenea</td>\n",
       "      <td>MULTIPOLYGON (((5486242.000 5833597.000, 54862...</td>\n",
       "      <td>7.0</td>\n",
       "      <td>4.590062</td>\n",
       "      <td>10.051413</td>\n",
       "      <td>3.170396</td>\n",
       "    </tr>\n",
       "    <tr>\n",
       "      <th>4</th>\n",
       "      <td>4</td>\n",
       "      <td>Galio-Urticenea</td>\n",
       "      <td>MULTIPOLYGON (((5486298.000 5833620.000, 54862...</td>\n",
       "      <td>7.0</td>\n",
       "      <td>4.293334</td>\n",
       "      <td>11.620623</td>\n",
       "      <td>3.408903</td>\n",
       "    </tr>\n",
       "    <tr>\n",
       "      <th>...</th>\n",
       "      <td>...</td>\n",
       "      <td>...</td>\n",
       "      <td>...</td>\n",
       "      <td>...</td>\n",
       "      <td>...</td>\n",
       "      <td>...</td>\n",
       "      <td>...</td>\n",
       "    </tr>\n",
       "    <tr>\n",
       "      <th>20453</th>\n",
       "      <td>20453</td>\n",
       "      <td>Phragmitetum australis</td>\n",
       "      <td>MULTIPOLYGON (((5486474.000 5830515.000, 54864...</td>\n",
       "      <td>6.0</td>\n",
       "      <td>5.977986</td>\n",
       "      <td>0.110878</td>\n",
       "      <td>0.332984</td>\n",
       "    </tr>\n",
       "    <tr>\n",
       "      <th>20454</th>\n",
       "      <td>20454</td>\n",
       "      <td>Phragmitetum australis</td>\n",
       "      <td>MULTIPOLYGON (((5487277.000 5830490.000, 54872...</td>\n",
       "      <td>7.0</td>\n",
       "      <td>5.109756</td>\n",
       "      <td>6.239986</td>\n",
       "      <td>2.497996</td>\n",
       "    </tr>\n",
       "    <tr>\n",
       "      <th>20455</th>\n",
       "      <td>20455</td>\n",
       "      <td>Molinietalia-pozostale</td>\n",
       "      <td>MULTIPOLYGON (((5487852.000 5830483.000, 54878...</td>\n",
       "      <td>5.0</td>\n",
       "      <td>0.170157</td>\n",
       "      <td>0.821832</td>\n",
       "      <td>0.906549</td>\n",
       "    </tr>\n",
       "    <tr>\n",
       "      <th>20456</th>\n",
       "      <td>20456</td>\n",
       "      <td>Phalaridetum arundinaceae</td>\n",
       "      <td>MULTIPOLYGON (((5487822.000 5830482.000, 54878...</td>\n",
       "      <td>5.0</td>\n",
       "      <td>4.985417</td>\n",
       "      <td>0.056037</td>\n",
       "      <td>0.236722</td>\n",
       "    </tr>\n",
       "    <tr>\n",
       "      <th>20457</th>\n",
       "      <td>20457</td>\n",
       "      <td>Molinietalia-pozostale</td>\n",
       "      <td>MULTIPOLYGON (((5487920.000 5830464.000, 54879...</td>\n",
       "      <td>5.0</td>\n",
       "      <td>0.010047</td>\n",
       "      <td>0.050133</td>\n",
       "      <td>0.223905</td>\n",
       "    </tr>\n",
       "  </tbody>\n",
       "</table>\n",
       "<p>20458 rows × 7 columns</p>\n",
       "</div>"
      ],
      "text/plain": [
       "          id                   NazwSkro  \\\n",
       "0          0            Galio-Urticenea   \n",
       "1          1            Galio-Urticenea   \n",
       "2          2            Galio-Urticenea   \n",
       "3          3            Galio-Urticenea   \n",
       "4          4            Galio-Urticenea   \n",
       "...      ...                        ...   \n",
       "20453  20453     Phragmitetum australis   \n",
       "20454  20454     Phragmitetum australis   \n",
       "20455  20455     Molinietalia-pozostale   \n",
       "20456  20456  Phalaridetum arundinaceae   \n",
       "20457  20457     Molinietalia-pozostale   \n",
       "\n",
       "                                                geometry  \\\n",
       "0      MULTIPOLYGON (((5486151.000 5833604.000, 54861...   \n",
       "1      MULTIPOLYGON (((5486281.000 5833627.000, 54862...   \n",
       "2      MULTIPOLYGON (((5486240.000 5833627.000, 54862...   \n",
       "3      MULTIPOLYGON (((5486242.000 5833597.000, 54862...   \n",
       "4      MULTIPOLYGON (((5486298.000 5833620.000, 54862...   \n",
       "...                                                  ...   \n",
       "20453  MULTIPOLYGON (((5486474.000 5830515.000, 54864...   \n",
       "20454  MULTIPOLYGON (((5487277.000 5830490.000, 54872...   \n",
       "20455  MULTIPOLYGON (((5487852.000 5830483.000, 54878...   \n",
       "20456  MULTIPOLYGON (((5487822.000 5830482.000, 54878...   \n",
       "20457  MULTIPOLYGON (((5487920.000 5830464.000, 54879...   \n",
       "\n",
       "       p341_gat_ekspansywne_raw_max  p341_gat_ekspansywne_raw_mean  \\\n",
       "0                               7.0                       6.076389   \n",
       "1                               7.0                       4.816000   \n",
       "2                               7.0                       2.962121   \n",
       "3                               7.0                       4.590062   \n",
       "4                               7.0                       4.293334   \n",
       "...                             ...                            ...   \n",
       "20453                           6.0                       5.977986   \n",
       "20454                           7.0                       5.109756   \n",
       "20455                           5.0                       0.170157   \n",
       "20456                           5.0                       4.985417   \n",
       "20457                           5.0                       0.010047   \n",
       "\n",
       "       p341_gat_ekspansywne_raw_variance  p341_gat_ekspansywne_raw_stdev  \n",
       "0                               5.612220                        2.369013  \n",
       "1                              10.518144                        3.243169  \n",
       "2                               8.081899                        2.842868  \n",
       "3                              10.051413                        3.170396  \n",
       "4                              11.620623                        3.408903  \n",
       "...                                  ...                             ...  \n",
       "20453                           0.110878                        0.332984  \n",
       "20454                           6.239986                        2.497996  \n",
       "20455                           0.821832                        0.906549  \n",
       "20456                           0.056037                        0.236722  \n",
       "20457                           0.050133                        0.223905  \n",
       "\n",
       "[20458 rows x 7 columns]"
      ]
     },
     "execution_count": 20,
     "metadata": {},
     "output_type": "execute_result"
    }
   ],
   "source": [
    "polygon_layer_stats_gdf"
   ]
  },
  {
   "cell_type": "code",
   "execution_count": 25,
   "metadata": {},
   "outputs": [
    {
     "data": {
      "image/svg+xml": [
       "<svg xmlns=\"http://www.w3.org/2000/svg\" xmlns:xlink=\"http://www.w3.org/1999/xlink\" width=\"100.0\" height=\"100.0\" viewBox=\"5486136.08 5833586.08 17.83999999985099 24.83999999985099\" preserveAspectRatio=\"xMinYMin meet\"><g transform=\"matrix(1,0,0,-1,0,11667197.0)\"><g><path fill-rule=\"evenodd\" fill=\"#66cc99\" stroke=\"#555555\" stroke-width=\"0.4967999999970198\" opacity=\"0.6\" d=\"M 5486151.0,5833604.0 L 5486151.0,5833603.0 L 5486152.0,5833603.0 L 5486152.0,5833602.0 L 5486153.0,5833602.0 L 5486153.0,5833600.0 L 5486149.0,5833600.0 L 5486149.0,5833599.0 L 5486146.0,5833599.0 L 5486146.0,5833598.0 L 5486145.0,5833598.0 L 5486145.0,5833597.0 L 5486144.0,5833597.0 L 5486144.0,5833596.0 L 5486143.0,5833596.0 L 5486143.0,5833595.0 L 5486142.0,5833595.0 L 5486142.0,5833591.0 L 5486143.0,5833591.0 L 5486143.0,5833590.0 L 5486142.0,5833590.0 L 5486142.0,5833589.0 L 5486141.0,5833589.0 L 5486141.0,5833588.0 L 5486140.0,5833588.0 L 5486140.0,5833587.0 L 5486137.0,5833587.0 L 5486137.0,5833588.0 L 5486138.0,5833588.0 L 5486138.0,5833589.0 L 5486139.0,5833589.0 L 5486139.0,5833593.0 L 5486140.0,5833593.0 L 5486140.0,5833595.0 L 5486139.0,5833595.0 L 5486139.0,5833601.0 L 5486138.0,5833601.0 L 5486138.0,5833604.0 L 5486137.0,5833604.0 L 5486137.0,5833610.0 L 5486139.0,5833610.0 L 5486139.0,5833609.0 L 5486140.0,5833609.0 L 5486140.0,5833608.0 L 5486141.0,5833608.0 L 5486141.0,5833607.0 L 5486143.0,5833607.0 L 5486143.0,5833606.0 L 5486144.0,5833606.0 L 5486144.0,5833605.0 L 5486148.0,5833605.0 L 5486148.0,5833604.0 L 5486151.0,5833604.0 z\" /></g></g></svg>"
      ],
      "text/plain": [
       "<MULTIPOLYGON (((5486151 5833604, 5486151 5833603, 5486152 5833603, 5486152 ...>"
      ]
     },
     "execution_count": 25,
     "metadata": {},
     "output_type": "execute_result"
    }
   ],
   "source": [
    "polygon_layer_stats_gdf.iloc[0].geometry"
   ]
  },
  {
   "cell_type": "markdown",
   "metadata": {},
   "source": [
    "### Calculate other metrics"
   ]
  },
  {
   "cell_type": "code",
   "execution_count": 15,
   "metadata": {},
   "outputs": [],
   "source": [
    "polygon_layer_stats_gdf['crownArea'] = polygon_layer_stats_gdf.geometry.area"
   ]
  },
  {
   "cell_type": "code",
   "execution_count": 19,
   "metadata": {},
   "outputs": [],
   "source": [
    "# Define a function to calculate diameter\n",
    "def calculate_diameter(area):\n",
    "    return 2 * (math.sqrt(area / math.pi))\n",
    "\n",
    "polygon_layer_stats_gdf['crown_diameter'] = polygon_layer_stats_gdf['crownArea'].apply(calculate_diameter)"
   ]
  },
  {
   "cell_type": "code",
   "execution_count": 25,
   "metadata": {},
   "outputs": [],
   "source": [
    "polygon_layer_stats_gdf['crown_diameter_ln'] = np.log(polygon_layer_stats_gdf['crown_diameter'])\n",
    "polygon_layer_stats_gdf['crownArea_ln'] = np.log(polygon_layer_stats_gdf['crownArea'])"
   ]
  },
  {
   "cell_type": "code",
   "execution_count": 9,
   "metadata": {},
   "outputs": [
    {
     "data": {
      "text/plain": [
       "Index(['gid', 'id', 'treeID', 'crownArea', 'layer', 'path', 'geometry',\n",
       "       'FHD_max', 'FHD_mean', 'FHD_variance',\n",
       "       ...\n",
       "       'zq95_variance', 'zq95_stdev', 'zsd_max', 'zsd_mean', 'zsd_variance',\n",
       "       'zsd_stdev', 'zskew_max', 'zskew_mean', 'zskew_variance',\n",
       "       'zskew_stdev'],\n",
       "      dtype='object', length=707)"
      ]
     },
     "execution_count": 9,
     "metadata": {},
     "output_type": "execute_result"
    }
   ],
   "source": [
    "polygon_layer_stats_gdf.columns"
   ]
  },
  {
   "cell_type": "markdown",
   "metadata": {},
   "source": [
    "### Save layer"
   ]
  },
  {
   "cell_type": "code",
   "execution_count": 27,
   "metadata": {},
   "outputs": [],
   "source": [
    "polygon_layer_stats_gdf.to_file(r\"../../../../Data/Wroclaw/Segmentacja/Segmenty_statystyki_LeafOn.gpkg\", engine=\"pyogrio\")"
   ]
  },
  {
   "cell_type": "code",
   "execution_count": 26,
   "metadata": {},
   "outputs": [],
   "source": [
    "polygon_layer_stats_gdf.to_parquet(r\"../../../../Data/Wroclaw/Segmentacja/Segmenty_statystyki_LeafOn.parquet\")"
   ]
  },
  {
   "cell_type": "code",
   "execution_count": null,
   "metadata": {},
   "outputs": [],
   "source": []
  }
 ],
 "metadata": {
  "kernelspec": {
   "display_name": "geospatial_wp3_env",
   "language": "python",
   "name": "python3"
  },
  "language_info": {
   "codemirror_mode": {
    "name": "ipython",
    "version": 3
   },
   "file_extension": ".py",
   "mimetype": "text/x-python",
   "name": "python",
   "nbconvert_exporter": "python",
   "pygments_lexer": "ipython3",
   "version": "3.9.18"
  }
 },
 "nbformat": 4,
 "nbformat_minor": 2
}
