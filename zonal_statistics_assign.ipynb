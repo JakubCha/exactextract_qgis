{
 "cells": [
  {
   "cell_type": "code",
   "execution_count": 22,
   "metadata": {},
   "outputs": [],
   "source": [
    "from exactextract import exact_extract\n",
    "import geopandas as gpd\n",
    "import pandas as pd\n",
    "import rasterio as rio\n",
    "from tqdm import tqdm\n",
    "import numpy as np\n",
    "\n",
    "import os\n",
    "import glob\n",
    "import pathlib\n",
    "from multiprocess import Pool\n",
    "from typing import Union, List, Any\n",
    "import itertools\n",
    "import math"
   ]
  },
  {
   "cell_type": "code",
   "execution_count": 7,
   "metadata": {},
   "outputs": [],
   "source": [
    "\n",
    "def _chunks(data: gpd.GeoDataFrame, n: int, raster: str, stats: List[str], include_cols: List[str]) -> List[Any]:\n",
    "    \"\"\"Yield successive n-sized chunks from a slice-able iterable.\"\"\"\n",
    "    for i in range(0, len(data), n):\n",
    "        yield [data[i:i + n], raster, stats, include_cols]\n",
    "\n",
    "def _zonal_stats_partial(feats: gpd.GeoDataFrame, raster: str, stats: List[str], include_cols: List[str]) -> List[Any]:\n",
    "    from exactextract import exact_extract\n",
    "    \"\"\"Wrapper for zonal stats, takes a geodataframe\"\"\"\n",
    "    return exact_extract(vec=feats, rast=raster, ops=stats, include_cols=include_cols, output=\"pandas\")\n",
    "\n",
    "def calculate_stats_parallel(polygon_layer_gdf: gpd.GeoDataFrame, raster: str, stats: List[str], pool: Pool, include_cols=['id'], n_jobs=16, index_column: str='id', prefix: str=''):\n",
    "    \"\"\"\n",
    "    Calculate zonal statistics for a raster and a GeoDataFrame of polygons\" in parallel.\n",
    "\n",
    "    Args:\n",
    "        polygon_layer_gdf (gpd.GeoDataFrame): A GeoDataFrame of polygons.\n",
    "        raster (str): The path to the raster file.\n",
    "        stats (List[str]): A list of statistics to calculate.\n",
    "        pool (Pool): Pool of a jobs in multiprocess library.\n",
    "        include_cols (List[str], optional): A list of columns to include in the output. Defaults to ['id'].\n",
    "        n_jobs (int, optional): The number of cores to use for parallel processing. Defaults to 16.\n",
    "        index_column (str, optional): The name of the index column. Defaults to 'id'.\n",
    "        prefix (str, optional): A prefix string to add to the column names. Defaults to ''.\n",
    "\n",
    "    Returns:\n",
    "        pd.DataFrame: A DataFrame of zonal statistics.\n",
    "    \"\"\"\n",
    "    # Define the number of cores to use for parallel processing\n",
    "    \n",
    "    # Use starmap and chunks for parallel processing\n",
    "    stats_list = pool.starmap(_zonal_stats_partial,\n",
    "                            _chunks(polygon_layer_gdf, round(len(polygon_layer_gdf) / pool._processes),\n",
    "                                    raster,  stats, include_cols))\n",
    "    stats_list = [df.set_index(index_column) for df in stats_list]\n",
    "    calculated_stats = pd.concat(stats_list)\n",
    "    \n",
    "    if index_column is not None and index_column in include_cols:\n",
    "        # change index dtype to dtype of index column in input layer\n",
    "        index_dtype = str(polygon_layer_gdf[index_column].dtype)\n",
    "        calculated_stats = calculated_stats.reset_index().astype({index_column:index_dtype})\n",
    "        \n",
    "    if len(prefix) > 0:\n",
    "        # rename columns to include prefix string\n",
    "        rename_dict = {stat: f\"{prefix}{stat}\" for stat in stats}\n",
    "        calculated_stats = calculated_stats.rename(columns=rename_dict)\n",
    "    \n",
    "    return calculated_stats\n",
    "    \n",
    "\n"
   ]
  },
  {
   "cell_type": "code",
   "execution_count": 3,
   "metadata": {},
   "outputs": [],
   "source": [
    "n_jobs = 24\n",
    "pool = Pool(n_jobs)\n",
    "id_column = 'id'\n",
    "stats = ['max', 'mean', 'variance', 'stdev']\n",
    "\n",
    "# Paths to data\n",
    "polygon_layer_path = r\"../../../../Data/Wroclaw/Segmentacja/Segmenty_Wroclaw_2024_02_02.gpkg\"\n",
    "lidar_rasters_leafon_path = r'../../../../Data/Wroclaw/LIDAR/LeafOn/metryki_pnie'"
   ]
  },
  {
   "cell_type": "code",
   "execution_count": 4,
   "metadata": {},
   "outputs": [],
   "source": [
    "# list rasters of lidar metrics\n",
    "lidar_rasters_leafon_pathlib = pathlib.Path(lidar_rasters_leafon_path)\n",
    "lidar_rasters_list = list(lidar_rasters_leafon_pathlib.rglob(\"*.tif\"))"
   ]
  },
  {
   "cell_type": "code",
   "execution_count": 5,
   "metadata": {},
   "outputs": [],
   "source": [
    "polygon_layer_gdf = gpd.read_file(polygon_layer_path, engine=\"pyogrio\", use_arrow=True)\n",
    "polygon_layer_gdf = polygon_layer_gdf.astype({'id':'int32'})"
   ]
  },
  {
   "cell_type": "code",
   "execution_count": 6,
   "metadata": {},
   "outputs": [],
   "source": [
    "polygon_layer_stats_gdf = polygon_layer_gdf.copy(deep=True)"
   ]
  },
  {
   "cell_type": "markdown",
   "metadata": {},
   "source": [
    "### Calculate metrics from a lidar rasters"
   ]
  },
  {
   "cell_type": "code",
   "execution_count": 8,
   "metadata": {},
   "outputs": [
    {
     "name": "stderr",
     "output_type": "stream",
     "text": [
      "100%|██████████| 175/175 [2:04:07<00:00, 42.56s/it] \n"
     ]
    }
   ],
   "source": [
    "for lidar_raster in tqdm(lidar_rasters_list):\n",
    "    raster_name = lidar_raster.stem\n",
    "    raster_rio = rio.open(lidar_raster)\n",
    "    \n",
    "    calculated_stats = calculate_stats_parallel(polygon_layer_gdf=polygon_layer_gdf, raster=lidar_raster,\n",
    "                                            stats=stats, pool=pool, include_cols=[id_column], index_column=id_column, \n",
    "                                            n_jobs=n_jobs, prefix=f'{raster_name}_')\n",
    "    polygon_layer_stats_gdf = pd.merge(polygon_layer_stats_gdf, calculated_stats, on='id', how='left')\n",
    "    "
   ]
  },
  {
   "cell_type": "markdown",
   "metadata": {},
   "source": [
    "### Calculate other metrics"
   ]
  },
  {
   "cell_type": "code",
   "execution_count": 15,
   "metadata": {},
   "outputs": [],
   "source": [
    "polygon_layer_stats_gdf['crownArea'] = polygon_layer_stats_gdf.geometry.area"
   ]
  },
  {
   "cell_type": "code",
   "execution_count": 19,
   "metadata": {},
   "outputs": [],
   "source": [
    "# Define a function to calculate diameter\n",
    "def calculate_diameter(area):\n",
    "    return 2 * (math.sqrt(area / math.pi))\n",
    "\n",
    "polygon_layer_stats_gdf['crown_diameter'] = polygon_layer_stats_gdf['crownArea'].apply(calculate_diameter)"
   ]
  },
  {
   "cell_type": "code",
   "execution_count": 25,
   "metadata": {},
   "outputs": [],
   "source": [
    "polygon_layer_stats_gdf['crown_diameter_ln'] = np.log(polygon_layer_stats_gdf['crown_diameter'])\n",
    "polygon_layer_stats_gdf['crownArea_ln'] = np.log(polygon_layer_stats_gdf['crownArea'])"
   ]
  },
  {
   "cell_type": "code",
   "execution_count": 9,
   "metadata": {},
   "outputs": [
    {
     "data": {
      "text/plain": [
       "Index(['gid', 'id', 'treeID', 'crownArea', 'layer', 'path', 'geometry',\n",
       "       'FHD_max', 'FHD_mean', 'FHD_variance',\n",
       "       ...\n",
       "       'zq95_variance', 'zq95_stdev', 'zsd_max', 'zsd_mean', 'zsd_variance',\n",
       "       'zsd_stdev', 'zskew_max', 'zskew_mean', 'zskew_variance',\n",
       "       'zskew_stdev'],\n",
       "      dtype='object', length=707)"
      ]
     },
     "execution_count": 9,
     "metadata": {},
     "output_type": "execute_result"
    }
   ],
   "source": [
    "polygon_layer_stats_gdf.columns"
   ]
  },
  {
   "cell_type": "markdown",
   "metadata": {},
   "source": [
    "### Save layer"
   ]
  },
  {
   "cell_type": "code",
   "execution_count": 27,
   "metadata": {},
   "outputs": [],
   "source": [
    "polygon_layer_stats_gdf.to_file(r\"../../../../Data/Wroclaw/Segmentacja/Segmenty_statystyki_LeafOn.gpkg\", engine=\"pyogrio\")"
   ]
  },
  {
   "cell_type": "code",
   "execution_count": 26,
   "metadata": {},
   "outputs": [],
   "source": [
    "polygon_layer_stats_gdf.to_parquet(r\"../../../../Data/Wroclaw/Segmentacja/Segmenty_statystyki_LeafOn.parquet\")"
   ]
  },
  {
   "cell_type": "code",
   "execution_count": null,
   "metadata": {},
   "outputs": [],
   "source": []
  }
 ],
 "metadata": {
  "kernelspec": {
   "display_name": "geospatial_wp3_env",
   "language": "python",
   "name": "python3"
  },
  "language_info": {
   "codemirror_mode": {
    "name": "ipython",
    "version": 3
   },
   "file_extension": ".py",
   "mimetype": "text/x-python",
   "name": "python",
   "nbconvert_exporter": "python",
   "pygments_lexer": "ipython3",
   "version": "3.10.13"
  }
 },
 "nbformat": 4,
 "nbformat_minor": 2
}
